{
 "cells": [
  {
   "cell_type": "markdown",
   "id": "44e38063-c4d7-45b5-97d6-4fa86cbed2db",
   "metadata": {},
   "source": [
    "# Data Science Tools and Ecosystem"
   ]
  },
  {
   "cell_type": "markdown",
   "id": "c98d0c93-ea43-4661-be3d-3dc7978c5ad0",
   "metadata": {},
   "source": [
    "In this notebook, Data Science Tools and Ecosystem are summarized."
   ]
  },
  {
   "cell_type": "markdown",
   "id": "990c51f6-f9b4-4f05-934f-ffc56f781e5f",
   "metadata": {},
   "source": [
    "**Objetives:**\n",
    "* How to create a Jupyter Notebook\n",
    "* How to work with Markdown\n",
    "* The syntax of Markdown\n",
    "* Working with cells and expressions"
   ]
  },
  {
   "cell_type": "markdown",
   "id": "4be4fccb-3abe-418b-8dc6-375653fd52d7",
   "metadata": {
    "tags": []
   },
   "source": [
    "Some of the popular languages that Data Scientists use are:\n",
    "1. Python\n",
    "2. R\n",
    "3. Julia\n",
    "4. Java"
   ]
  },
  {
   "cell_type": "markdown",
   "id": "62609b43-f464-4274-84e0-345f8ab7ca06",
   "metadata": {},
   "source": [
    "Some of the commonly used libraries used by Data Scientists include:\n",
    "1. Numpy\n",
    "2. Scikit-learn\n",
    "3. Matplotlib"
   ]
  },
  {
   "cell_type": "markdown",
   "id": "6b158e92-3060-4ebc-ab66-f3cd378f2fa8",
   "metadata": {},
   "source": [
    "| Data Science Tools |\n",
    "| ------ |\n",
    "| Apache Spark |\n",
    "| Visual Studio |\n",
    "| Tableu |"
   ]
  },
  {
   "cell_type": "markdown",
   "id": "53e0b730-23c1-4e9d-a767-eff43c173c10",
   "metadata": {
    "tags": []
   },
   "source": [
    "### Below are a few examples of evaluating arithmetic expressions in Python"
   ]
  },
  {
   "cell_type": "code",
   "execution_count": 26,
   "id": "e70671b5-b2cf-4829-9690-f5e2b30e97a5",
   "metadata": {
    "tags": []
   },
   "outputs": [
    {
     "data": {
      "text/plain": [
       "17"
      ]
     },
     "execution_count": 26,
     "metadata": {},
     "output_type": "execute_result"
    }
   ],
   "source": [
    "#This a simple arithmetic expression to mutiply then add integers.\n",
    "(3*4)+5"
   ]
  },
  {
   "cell_type": "code",
   "execution_count": 30,
   "id": "0eb93409-1800-41a4-9f4f-c111d8a6bfe5",
   "metadata": {
    "tags": []
   },
   "outputs": [
    {
     "data": {
      "text/plain": [
       "3.3333333333333335"
      ]
     },
     "execution_count": 30,
     "metadata": {},
     "output_type": "execute_result"
    }
   ],
   "source": [
    "#This will convert 200 minutes to hours by diving by 60\n",
    "200 / 60"
   ]
  },
  {
   "cell_type": "markdown",
   "id": "b30457bb-e240-4945-8ba8-dc5cce631fb5",
   "metadata": {},
   "source": [
    "## Author\n",
    "Kevin Flores"
   ]
  }
 ],
 "metadata": {
  "kernelspec": {
   "display_name": "Python 3 (ipykernel)",
   "language": "python",
   "name": "python3"
  },
  "language_info": {
   "codemirror_mode": {
    "name": "ipython",
    "version": 3
   },
   "file_extension": ".py",
   "mimetype": "text/x-python",
   "name": "python",
   "nbconvert_exporter": "python",
   "pygments_lexer": "ipython3",
   "version": "3.11.7"
  }
 },
 "nbformat": 4,
 "nbformat_minor": 5
}
